{
  "nbformat": 4,
  "nbformat_minor": 0,
  "metadata": {
    "colab": {
      "name": "ConvolutionalNetowrk.ipynb",
      "version": "0.3.2",
      "provenance": [],
      "collapsed_sections": [],
      "include_colab_link": true
    },
    "kernelspec": {
      "name": "python3",
      "display_name": "Python 3"
    }
  },
  "cells": [
    {
      "cell_type": "markdown",
      "metadata": {
        "id": "view-in-github",
        "colab_type": "text"
      },
      "source": [
        "<a href=\"https://colab.research.google.com/github/sanah-imani/CropDiseaseDetection/blob/master/ConvolutionalNetowrk.ipynb\" target=\"_parent\"><img src=\"https://colab.research.google.com/assets/colab-badge.svg\" alt=\"Open In Colab\"/></a>"
      ]
    },
    {
      "metadata": {
        "id": "08KfikSh4bJp",
        "colab_type": "code",
        "colab": {}
      },
      "cell_type": "code",
      "source": [
        "import dataset\n",
        "import tensorflow as tf\n",
        "import time\n",
        "from datetime import timedelta\n",
        "import math\n",
        "import random\n",
        "import numpy as np\n",
        "import os"
      ],
      "execution_count": 0,
      "outputs": []
    },
    {
      "metadata": {
        "id": "z-O5iCCR4dle",
        "colab_type": "code",
        "colab": {}
      },
      "cell_type": "code",
      "source": [
        "from numpy.random import seed\n",
        "seed(1)\n",
        "from tensorflow import set_random_seed\n",
        "set_random_seed(2)"
      ],
      "execution_count": 0,
      "outputs": []
    },
    {
      "metadata": {
        "id": "SHNbHIhK58su",
        "colab_type": "code",
        "colab": {}
      },
      "cell_type": "code",
      "source": [
        "classes = ['rice','wheat','corn']\n",
        "\n",
        "train_path = ??\n",
        "\n",
        "validation_size = 0.2\n",
        "\n",
        "batch_size = 10\n",
        "\n",
        "data = dataset.read_train_sets(train_path, img_size, classes, validation_size=validation_size)\n",
        "\n",
        "img_size = 128\n",
        "num_channels = 3"
      ],
      "execution_count": 0,
      "outputs": []
    },
    {
      "metadata": {
        "id": "OPmmMAU8IfIg",
        "colab_type": "code",
        "colab": {}
      },
      "cell_type": "code",
      "source": [
        "session = tf.Session()\n",
        "x = tf.placeholder(tf.float32, shape=[None, img_size,img_size,num_channels], name='x')\n",
        "\n",
        "## labels\n",
        "y_true = tf.placeholder(tf.float32, shape=[None, num_classes], name='y_true')\n",
        "y_true_cls = tf.argmax(y_true, dimension=1)"
      ],
      "execution_count": 0,
      "outputs": []
    },
    {
      "metadata": {
        "id": "pgfSsZ1XIfTd",
        "colab_type": "code",
        "colab": {}
      },
      "cell_type": "code",
      "source": [
        "##Network graph params\n",
        "filter_size_conv1 = 3 \n",
        "num_filters_conv1 = 32\n",
        "\n",
        "filter_size_conv2 = 3\n",
        "num_filters_conv2 = 32\n",
        "\n",
        "filter_size_conv3 = 3\n",
        "num_filters_conv3 = 64\n",
        "    \n",
        "fc_layer_size = 128"
      ],
      "execution_count": 0,
      "outputs": []
    },
    {
      "metadata": {
        "id": "dksGz4TE87Tz",
        "colab_type": "code",
        "colab": {}
      },
      "cell_type": "code",
      "source": [
        "\n",
        " \n",
        "def create_weights(shape):\n",
        "    return tf.Variable(tf.truncated_normal(shape, stddev=0.05))\n",
        " \n",
        "def create_biases(size):\n",
        "    return tf.Variable(tf.constant(0.05, shape=[size]))"
      ],
      "execution_count": 0,
      "outputs": []
    },
    {
      "metadata": {
        "id": "UuhCfmsP8_h7",
        "colab_type": "code",
        "colab": {}
      },
      "cell_type": "code",
      "source": [
        "def create_convolutional_layer(input,\n",
        "               num_input_channels, \n",
        "               conv_filter_size,        \n",
        "               num_filters):  \n",
        "    \n",
        "    ## We shall define the weights that will be trained using create_weights function.\n",
        "    weights = create_weights(shape=[conv_filter_size, conv_filter_size, num_input_channels, num_filters])\n",
        "    ## We create biases using the create_biases function. These are also trained.\n",
        "    biases = create_biases(num_filters)\n",
        " \n",
        "    ## Creating the convolutional layer\n",
        "    layer = tf.nn.conv2d(input=input,\n",
        "                     filter=weights,\n",
        "                     strides=[1, 1, 1, 1],\n",
        "                     padding='SAME')\n",
        " \n",
        "    layer += biases\n",
        " \n",
        "    ## We shall be using max-pooling.  \n",
        "    layer = tf.nn.max_pool(value=layer,\n",
        "                            ksize=[1, 2, 2, 1],\n",
        "                            strides=[1, 2, 2, 1],\n",
        "                            padding='SAME')\n",
        "    ## Output of pooling is fed to Relu which is the activation function for us.\n",
        "    layer = tf.nn.relu(layer)\n",
        " \n",
        "    return layer"
      ],
      "execution_count": 0,
      "outputs": []
    },
    {
      "metadata": {
        "id": "NEhv_ajC9Obe",
        "colab_type": "code",
        "colab": {}
      },
      "cell_type": "code",
      "source": [
        "\n",
        " def create_flatten_layer(layer):\n",
        "    layer_shape = layer.get_shape()\n",
        "    num_features = layer_shape[1:4].num_elements()\n",
        "    layer = tf.reshape(layer, [-1, num_features])\n",
        " \n",
        "    return layer"
      ],
      "execution_count": 0,
      "outputs": []
    },
    {
      "metadata": {
        "id": "FhlEp-gG9Tbq",
        "colab_type": "code",
        "colab": {}
      },
      "cell_type": "code",
      "source": [
        "def create_fc_layer(input,          \n",
        "             num_inputs,    \n",
        "             num_outputs,\n",
        "             use_relu=True):\n",
        "    \n",
        "    #Let's define trainable weights and biases.\n",
        "    weights = create_weights(shape=[num_inputs, num_outputs])\n",
        "    biases = create_biases(num_outputs)\n",
        " \n",
        "    layer = tf.matmul(input, weights) + biases\n",
        "    if use_relu:\n",
        "        layer = tf.nn.relu(layer)\n",
        " \n",
        "    return layer"
      ],
      "execution_count": 0,
      "outputs": []
    },
    {
      "metadata": {
        "id": "DN0l7qZp91zH",
        "colab_type": "code",
        "colab": {}
      },
      "cell_type": "code",
      "source": [
        "\n",
        " \n",
        "layer_conv1 = create_convolutional_layer(input=x,\n",
        "               num_input_channels=num_channels,\n",
        "               conv_filter_size=filter_size_conv1,\n",
        "               num_filters=num_filters_conv1)\n",
        " \n",
        "layer_conv2 = create_convolutional_layer(input=layer_conv1,\n",
        "               num_input_channels=num_filters_conv1,\n",
        "               conv_filter_size=filter_size_conv2,\n",
        "               num_filters=num_filters_conv2)\n",
        " \n",
        "layer_conv3= create_convolutional_layer(input=layer_conv2,\n",
        "               num_input_channels=num_filters_conv2,\n",
        "               conv_filter_size=filter_size_conv3,\n",
        "               num_filters=num_filters_conv3)\n",
        "          \n",
        "layer_flat = create_flatten_layer(layer_conv3)\n",
        " \n",
        "layer_fc1 = create_fc_layer(input=layer_flat,\n",
        "                     num_inputs=layer_flat.get_shape()[1:4].num_elements(),\n",
        "                     num_outputs=fc_layer_size,\n",
        "                     use_relu=True)\n",
        " \n",
        "layer_fc2 = create_fc_layer(input=layer_fc1,\n",
        "                     num_inputs=fc_layer_size,\n",
        "                     num_outputs=num_classes,\n",
        "                     use_relu=False)"
      ],
      "execution_count": 0,
      "outputs": []
    },
    {
      "metadata": {
        "id": "KTVMJJT0-Px0",
        "colab_type": "code",
        "colab": {}
      },
      "cell_type": "code",
      "source": [
        "y_pred = tf.nn.softmax(layer_fc2, name=\"y_pred\")"
      ],
      "execution_count": 0,
      "outputs": []
    },
    {
      "metadata": {
        "id": "eC3Y_56h-wMb",
        "colab_type": "code",
        "colab": {}
      },
      "cell_type": "code",
      "source": [
        "y_pred_cls = tf.argmax(y_pred, dimension=1)\n",
        "\n",
        "session.run(tf.global_variables_initializer())"
      ],
      "execution_count": 0,
      "outputs": []
    },
    {
      "metadata": {
        "id": "opB5DVLu-17_",
        "colab_type": "code",
        "colab": {}
      },
      "cell_type": "code",
      "source": [
        "cross_entropy = tf.nn.softmax_cross_entropy_with_logits(logits=layer_fc2,\n",
        "                                                    labels=y_true)\n",
        "cost = tf.reduce_mean(cross_entropy)"
      ],
      "execution_count": 0,
      "outputs": []
    },
    {
      "metadata": {
        "id": "Agd-GLN4-6ge",
        "colab_type": "code",
        "colab": {}
      },
      "cell_type": "code",
      "source": [
        "optimizer = tf.train.AdamOptimizer(learning_rate=1e-4).minimize(cost)"
      ],
      "execution_count": 0,
      "outputs": []
    },
    {
      "metadata": {
        "id": "jvO6acWQ-_hp",
        "colab_type": "code",
        "colab": {}
      },
      "cell_type": "code",
      "source": [
        "batch_size = 16\n",
        " \n",
        "x_batch, y_true_batch, _, cls_batch = data.train.next_batch(batch_size)\n",
        " \n",
        "feed_dict_train = {x: x_batch,\n",
        "                           y_true: y_true_batch}\n",
        " \n",
        "session.run(optimizer, feed_dict=feed_dict_tr)"
      ],
      "execution_count": 0,
      "outputs": []
    },
    {
      "metadata": {
        "id": "ZvVj5EVW_C-_",
        "colab_type": "code",
        "colab": {}
      },
      "cell_type": "code",
      "source": [
        "x_valid_batch, y_valid_batch, _, valid_cls_batch = data.valid.next_batch(train_batch_size)\n",
        " \n",
        "feed_dict_val = {x: x_valid_batch,\n",
        "                      y_true: y_valid_batch}\n",
        " \n",
        "val_loss = session.run(cost, feed_dict=feed_dict_val)"
      ],
      "execution_count": 0,
      "outputs": []
    },
    {
      "metadata": {
        "id": "af-3yGGz_QUr",
        "colab_type": "code",
        "colab": {}
      },
      "cell_type": "code",
      "source": [
        "\n",
        " \n",
        "correct_prediction = tf.equal(y_pred_cls, y_true_cls)\n",
        "accuracy = tf.reduce_mean(tf.cast(correct_prediction, tf.float32))\n",
        "\n",
        "\n"
      ],
      "execution_count": 0,
      "outputs": []
    },
    {
      "metadata": {
        "id": "0_-IIPd6_aOw",
        "colab_type": "code",
        "colab": {}
      },
      "cell_type": "code",
      "source": [
        "def show_progress(epoch, feed_dict_train, feed_dict_validate, val_loss):\n",
        "    acc = session.run(accuracy, feed_dict=feed_dict_train)\n",
        "    val_acc = session.run(accuracy, feed_dict=feed_dict_validate)\n",
        "    msg = \"Training Epoch {0} --- Training Accuracy: {1:>6.1%}, Validation Accuracy: {2:>6.1%},  Validation Loss: {3:.3f}\"\n",
        "    print(msg.format(epoch + 1, acc, val_acc, val_loss))\n",
        "\n",
        "total_iterations = 0\n",
        "\n",
        "saver = tf.train.Saver()"
      ],
      "execution_count": 0,
      "outputs": []
    },
    {
      "metadata": {
        "id": "HpJAufa4_gZU",
        "colab_type": "code",
        "colab": {}
      },
      "cell_type": "code",
      "source": [
        "\n",
        "def train(num_iteration):\n",
        "    global total_iterations\n",
        "    \n",
        "    for i in range(total_iterations,\n",
        "                   total_iterations + num_iteration):\n",
        " \n",
        "        x_batch, y_true_batch, _, cls_batch = data.train.next_batch(batch_size)\n",
        "        x_valid_batch, y_valid_batch, _, valid_cls_batch = data.valid.next_batch(batch_size)\n",
        " \n",
        "        \n",
        "        feed_dict_tr = {x: x_batch,\n",
        "                           y_true: y_true_batch}\n",
        "        feed_dict_val = {x: x_valid_batch,\n",
        "                              y_true: y_valid_batch}\n",
        " \n",
        "        session.run(optimizer, feed_dict=feed_dict_tr)\n",
        " \n",
        "        if i % int(data.train.num_examples/batch_size) == 0: \n",
        "            val_loss = session.run(cost, feed_dict=feed_dict_val)\n",
        "            epoch = int(i / int(data.train.num_examples/batch_size))    \n",
        "            \n",
        "            show_progress(epoch, feed_dict_tr, feed_dict_val, val_loss)\n",
        "            saver.save(session, 'plantsclassify-model') \n",
        " \n",
        " \n",
        "    total_iterations += num_iteration"
      ],
      "execution_count": 0,
      "outputs": []
    },
    {
      "metadata": {
        "id": "9WEtd_i0ACQL",
        "colab_type": "code",
        "colab": {}
      },
      "cell_type": "code",
      "source": [
        "image = cv2.imread(filename)\n",
        "# Resizing the image to our desired size and\n",
        "# preprocessing will be done exactly as done during training\n",
        "image = cv2.resize(image, (image_size, image_size), cv2.INTER_LINEAR)\n",
        "images.append(image)\n",
        "images = np.array(images, dtype=np.uint8)\n",
        "images = images.astype('float32')\n",
        "images = np.multiply(images, 1.0/255.0) \n",
        "#The input to the network is of shape [None image_size image_size num_channels]. Hence we reshape.\n",
        "x_batch = images.reshape(1, image_size,image_size,num_channels)\n",
        " \n",
        " \n",
        "graph = tf.get_default_graph()\n",
        " \n",
        "y_pred = graph.get_tensor_by_name(\"y_pred:0\")\n",
        " \n",
        "## Let's feed the images to the input placeholders\n",
        "x= graph.get_tensor_by_name(\"x:0\") \n",
        "y_true = graph.get_tensor_by_name(\"y_true:0\") \n",
        "y_test_images = np.zeros((1, 2)) \n",
        " \n",
        "feed_dict_testing = {x: x_batch, y_true: y_test_images}\n",
        "result=sess.run(y_pred, feed_dict=feed_dict_testing)"
      ],
      "execution_count": 0,
      "outputs": []
    },
    {
      "metadata": {
        "id": "l-kTXWbiCKAT",
        "colab_type": "code",
        "colab": {}
      },
      "cell_type": "code",
      "source": [
        "python predict.py test_dog.jpg\n",
        "\n"
      ],
      "execution_count": 0,
      "outputs": []
    }
  ]
}
